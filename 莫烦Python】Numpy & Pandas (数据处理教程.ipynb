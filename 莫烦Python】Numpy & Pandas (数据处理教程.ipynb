{
 "cells": [
  {
   "cell_type": "code",
   "execution_count": 3,
   "id": "aad35168",
   "metadata": {},
   "outputs": [
    {
     "name": "stdout",
     "output_type": "stream",
     "text": [
      "0     语文\n",
      "1     数学\n",
      "2     英语\n",
      "3    计算机\n",
      "dtype: object\n"
     ]
    }
   ],
   "source": [
    "import pandas as pd\n",
    "courses=[\"语文\",\"数学\",\"英语\",\"计算机\"]\n",
    "data=pd.Series(data=courses)\n",
    "print(data)"
   ]
  },
  {
   "cell_type": "code",
   "execution_count": 6,
   "id": "da4441bf",
   "metadata": {},
   "outputs": [
    {
     "name": "stdout",
     "output_type": "stream",
     "text": [
      "语文      80\n",
      "数学      90\n",
      "英语      85\n",
      "计算机    100\n",
      "dtype: int64\n"
     ]
    }
   ],
   "source": [
    "#将Series输出到命令行\n",
    "grades={\"语文\":80,\"数学\":90,\"英语\":85,\"计算机\":100}\n",
    "data=pd.Series(data=grades)\n",
    "print(data)"
   ]
  },
  {
   "cell_type": "code",
   "execution_count": 8,
   "id": "e67d26e5",
   "metadata": {},
   "outputs": [
    {
     "name": "stdout",
     "output_type": "stream",
     "text": [
      "[80, 90, 85, 100]\n"
     ]
    }
   ],
   "source": [
    "#从series到值的变化\n",
    "numbers=data.tolist()\n",
    "print(numbers)"
   ]
  },
  {
   "cell_type": "code",
   "execution_count": 11,
   "id": "2603f38f",
   "metadata": {},
   "outputs": [
    {
     "name": "stdout",
     "output_type": "stream",
     "text": [
      "     grade\n",
      "语文      80\n",
      "数学      90\n",
      "英语      85\n",
      "计算机    100\n"
     ]
    }
   ],
   "source": [
    "#变为dataframe\n",
    "df=pd.DataFrame(data,columns=['grade'])\n",
    "print(df)"
   ]
  },
  {
   "cell_type": "code",
   "execution_count": 14,
   "id": "1bf3fa51",
   "metadata": {},
   "outputs": [
    {
     "name": "stdout",
     "output_type": "stream",
     "text": [
      "101    10.0\n",
      "102    20.0\n",
      "103    30.0\n",
      "104    40.0\n",
      "105    50.0\n",
      "106    60.0\n",
      "107    70.0\n",
      "108    80.0\n",
      "109    90.0\n",
      "dtype: float64\n"
     ]
    }
   ],
   "source": [
    "import numpy as np\n",
    "import pandas as pd\n",
    "s=pd.Series(\n",
    "    np.arange(10,100,10),     #数值：10~90 间隔10\n",
    "    index=np.arange(101,110), #索引：101~109，间隔1\n",
    "    dtype=\"float\"             #类型：float64\n",
    "    \n",
    ")\n",
    "print(s)"
   ]
  },
  {
   "cell_type": "code",
   "execution_count": 21,
   "id": "5b586f56",
   "metadata": {},
   "outputs": [
    {
     "name": "stdout",
     "output_type": "stream",
     "text": [
      "a    1\n",
      "b    2\n",
      "c    3\n",
      "d    4\n",
      "dtype: int64\n"
     ]
    }
   ],
   "source": [
    "s=pd.Series(\n",
    "           data=[\"001\",\"002\",\"003\",\"004\"],\n",
    "           index=list(\"abcd\"))\n",
    "# s=s.astype(int)\n",
    "s=s.map(int)\n",
    "print(s)"
   ]
  },
  {
   "cell_type": "code",
   "execution_count": 31,
   "id": "e9228d4c",
   "metadata": {},
   "outputs": [
    {
     "name": "stdout",
     "output_type": "stream",
     "text": [
      "语文      80\n",
      "数学      90\n",
      "英语      85\n",
      "计算机    100\n",
      "物理      88\n",
      "化学      95\n",
      "dtype: int64\n"
     ]
    }
   ],
   "source": [
    "import pandas as pd\n",
    "grades={\"语文\":80,\"数学\":90,\"英语\":85,\"计算机\":100}\n",
    "data = pd.Series(data=grades)\n",
    "dic2={\n",
    "    \"物理\":88,\n",
    "    \"化学\":95\n",
    "}\n",
    "data1=pd.Series(dic2)\n",
    "data2 = data._append(data1)\n",
    "print(data2)"
   ]
  },
  {
   "cell_type": "code",
   "execution_count": 32,
   "id": "91b4be78",
   "metadata": {},
   "outputs": [
    {
     "name": "stdout",
     "output_type": "stream",
     "text": [
      "  course  grade\n",
      "0     语文     80\n",
      "1     数学     90\n",
      "2     英语     85\n",
      "3    计算机    100\n"
     ]
    }
   ],
   "source": [
    "import pandas as pd\n",
    "grades={\"语文\":80,\"数学\":90,\"英语\":85,\"计算机\":100}\n",
    "data = pd.Series(data=grades)\n",
    "df=data.reset_index()\n",
    "df.columns=[\"course\",\"grade\"]\n",
    "print(df)"
   ]
  }
 ],
 "metadata": {
  "kernelspec": {
   "display_name": "Python 3 (ipykernel)",
   "language": "python",
   "name": "python3"
  },
  "language_info": {
   "codemirror_mode": {
    "name": "ipython",
    "version": 3
   },
   "file_extension": ".py",
   "mimetype": "text/x-python",
   "name": "python",
   "nbconvert_exporter": "python",
   "pygments_lexer": "ipython3",
   "version": "3.8.8rc1"
  }
 },
 "nbformat": 4,
 "nbformat_minor": 5
}
