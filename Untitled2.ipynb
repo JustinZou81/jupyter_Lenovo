{
 "cells": [
  {
   "cell_type": "code",
   "execution_count": 27,
   "id": "bade08fc-d252-44d0-ba52-91955e18630d",
   "metadata": {},
   "outputs": [],
   "source": [
    "def python_sum(n):\n",
    "    '''\n",
    "    原生python实现2个数组的加法\n",
    "    '''\n",
    "    #使用列表生成式创建1到N的平方\n",
    "    a= [i**2 for i in range (n)]\n",
    "    #使用列表生成式创建1到N的立方\n",
    "    b = [i**3 for i in range(n)]\n",
    "    #新创建新列表\n",
    "    ab_sum=[]\n",
    "    #循环a的索引\n",
    "    for i in range(n):\n",
    "        #将a中的对应元素与b中对应的元素相加\n",
    "        ab_sum.append(a[i]+b[i])\n",
    "    return ab_sum"
   ]
  },
  {
   "cell_type": "code",
   "execution_count": 28,
   "id": "0b71ddcd-d8d5-4667-90ab-42c1979573f5",
   "metadata": {},
   "outputs": [
    {
     "data": {
      "text/plain": [
       "[0, 2, 12, 36, 80, 150, 252, 392, 576, 810]"
      ]
     },
     "execution_count": 28,
     "metadata": {},
     "output_type": "execute_result"
    }
   ],
   "source": [
    "#调用实现函数\n",
    "python_sum(10)"
   ]
  },
  {
   "cell_type": "markdown",
   "id": "760d8d64-f32b-47ac-a829-6da959d88a74",
   "metadata": {},
   "source": [
    "numpy实现代码  "
   ]
  },
  {
   "cell_type": "code",
   "execution_count": 29,
   "id": "a0390ba2-a25c-445b-a610-e797064e451b",
   "metadata": {},
   "outputs": [],
   "source": [
    "import numpy as np\n",
    "def numpy_sum(n):\n",
    "    '''\n",
    "    numpy实现2个数组的加法\n",
    "    '''\n",
    "    a=np.arange(n)**2\n",
    "    b=np.arange(n)**3\n",
    "    return a+b"
   ]
  },
  {
   "cell_type": "code",
   "execution_count": 30,
   "id": "ad20a6c8-edae-4057-96bc-443f4a658a40",
   "metadata": {},
   "outputs": [
    {
     "data": {
      "text/plain": [
       "array([  0,   2,  12,  36,  80, 150, 252, 392, 576, 810])"
      ]
     },
     "execution_count": 30,
     "metadata": {},
     "output_type": "execute_result"
    }
   ],
   "source": [
    "#调用numpy实现函数\n",
    "numpy_sum(10)"
   ]
  },
  {
   "cell_type": "markdown",
   "id": "77b1e6b4-99ea-4162-98de-458d7c5d33cc",
   "metadata": {},
   "source": [
    "对比实现1000次"
   ]
  },
  {
   "cell_type": "code",
   "execution_count": 31,
   "id": "60c988c6-8f0e-4477-81e6-52c04bb0c2c8",
   "metadata": {},
   "outputs": [
    {
     "name": "stdout",
     "output_type": "stream",
     "text": [
      "259 μs ± 8.3 μs per loop (mean ± std. dev. of 7 runs, 1,000 loops each)\n"
     ]
    }
   ],
   "source": [
    "%timeit python_sum(1000)"
   ]
  },
  {
   "cell_type": "code",
   "execution_count": 19,
   "id": "55a5549f-437f-46f1-b8fc-52b4b51d6fec",
   "metadata": {},
   "outputs": [
    {
     "name": "stdout",
     "output_type": "stream",
     "text": [
      "10.1 μs ± 250 ns per loop (mean ± std. dev. of 7 runs, 100,000 loops each)\n"
     ]
    }
   ],
   "source": [
    "%timeit numpy_sum(1000)"
   ]
  },
  {
   "cell_type": "code",
   "execution_count": null,
   "id": "39ecbbc9-3526-4aed-8c61-c911a66b3d05",
   "metadata": {},
   "outputs": [],
   "source": [
    "对比实现10W次"
   ]
  },
  {
   "cell_type": "code",
   "execution_count": 38,
   "id": "41a0d5ca-e9d3-4e83-a088-2a95a45e114d",
   "metadata": {},
   "outputs": [
    {
     "name": "stdout",
     "output_type": "stream",
     "text": [
      "30.9 ms ± 1.54 ms per loop (mean ± std. dev. of 7 runs, 10 loops each)\n"
     ]
    }
   ],
   "source": [
    "%timeit python_sum(100000)"
   ]
  },
  {
   "cell_type": "code",
   "execution_count": 39,
   "id": "eb176da6-14b8-40d2-b706-02158c36c336",
   "metadata": {},
   "outputs": [
    {
     "name": "stdout",
     "output_type": "stream",
     "text": [
      "435 μs ± 18.3 μs per loop (mean ± std. dev. of 7 runs, 1,000 loops each)\n"
     ]
    }
   ],
   "source": [
    "%timeit numpy_sum(100000)"
   ]
  },
  {
   "cell_type": "markdown",
   "id": "cd55b0e4-95c2-4e51-9f7c-4d192cd380fa",
   "metadata": {},
   "source": [
    "对比实现100W次"
   ]
  },
  {
   "cell_type": "code",
   "execution_count": 34,
   "id": "98d5baad-96be-4f3f-a6ac-f27275656a65",
   "metadata": {},
   "outputs": [
    {
     "name": "stdout",
     "output_type": "stream",
     "text": [
      "366 ms ± 6.87 ms per loop (mean ± std. dev. of 7 runs, 1 loop each)\n"
     ]
    }
   ],
   "source": [
    "%timeit python_sum(1000000)"
   ]
  },
  {
   "cell_type": "code",
   "execution_count": 35,
   "id": "79304f48-2a34-4a89-a016-4c609c56df7f",
   "metadata": {},
   "outputs": [
    {
     "name": "stdout",
     "output_type": "stream",
     "text": [
      "12.5 ms ± 206 μs per loop (mean ± std. dev. of 7 runs, 100 loops each)\n"
     ]
    }
   ],
   "source": [
    "%timeit numpy_sum(1000000)"
   ]
  },
  {
   "cell_type": "markdown",
   "id": "74e48733-5f20-4fab-8d7c-9010601f11af",
   "metadata": {},
   "source": [
    "绘图对比"
   ]
  },
  {
   "cell_type": "code",
   "execution_count": 41,
   "id": "34d9ced0-7bff-4a7f-b12a-4b36472a654c",
   "metadata": {},
   "outputs": [],
   "source": [
    "import pandas as pd\n",
    "#创建数据\n",
    "python_times=[259,30.9*1000,366*1000]\n",
    "numpy_times=[10.1,435,12.5*1000]"
   ]
  },
  {
   "cell_type": "code",
   "execution_count": 42,
   "id": "972f20fb-92e5-4e55-b9ba-d078af715b0d",
   "metadata": {},
   "outputs": [],
   "source": [
    "#创建pandas 的DataFrame类型数据\n",
    "charts_data = pd.DataFrame({\n",
    "    'python_times':python_times,\n",
    "    'numpy_times':numpy_times,\n",
    "})"
   ]
  },
  {
   "cell_type": "code",
   "execution_count": 43,
   "id": "09287868-269c-4374-8b64-ab7db6d3c36e",
   "metadata": {},
   "outputs": [
    {
     "data": {
      "text/html": [
       "<div>\n",
       "<style scoped>\n",
       "    .dataframe tbody tr th:only-of-type {\n",
       "        vertical-align: middle;\n",
       "    }\n",
       "\n",
       "    .dataframe tbody tr th {\n",
       "        vertical-align: top;\n",
       "    }\n",
       "\n",
       "    .dataframe thead th {\n",
       "        text-align: right;\n",
       "    }\n",
       "</style>\n",
       "<table border=\"1\" class=\"dataframe\">\n",
       "  <thead>\n",
       "    <tr style=\"text-align: right;\">\n",
       "      <th></th>\n",
       "      <th>python_times</th>\n",
       "      <th>numpy_times</th>\n",
       "    </tr>\n",
       "  </thead>\n",
       "  <tbody>\n",
       "    <tr>\n",
       "      <th>0</th>\n",
       "      <td>259.0</td>\n",
       "      <td>10.1</td>\n",
       "    </tr>\n",
       "    <tr>\n",
       "      <th>1</th>\n",
       "      <td>30900.0</td>\n",
       "      <td>435.0</td>\n",
       "    </tr>\n",
       "    <tr>\n",
       "      <th>2</th>\n",
       "      <td>366000.0</td>\n",
       "      <td>12500.0</td>\n",
       "    </tr>\n",
       "  </tbody>\n",
       "</table>\n",
       "</div>"
      ],
      "text/plain": [
       "   python_times  numpy_times\n",
       "0         259.0         10.1\n",
       "1       30900.0        435.0\n",
       "2      366000.0      12500.0"
      ]
     },
     "execution_count": 43,
     "metadata": {},
     "output_type": "execute_result"
    }
   ],
   "source": [
    "charts_data"
   ]
  },
  {
   "cell_type": "code",
   "execution_count": 44,
   "id": "1f25e1b9-2e3b-4a31-8922-7153568b6c7b",
   "metadata": {},
   "outputs": [
    {
     "data": {
      "text/plain": [
       "<Axes: >"
      ]
     },
     "execution_count": 44,
     "metadata": {},
     "output_type": "execute_result"
    },
    {
     "data": {
      "image/png": "[encoded data removed]",
      "text/plain": [
       "<Figure size 640x480 with 1 Axes>"
      ]
     },
     "metadata": {},
     "output_type": "display_data"
    }
   ],
   "source": [
    "#线性图\n",
    "charts_data.plot()"
   ]
  },
  {
   "cell_type": "code",
   "execution_count": 45,
   "id": "63422c18-699f-4cdb-9568-dbfd06b918e2",
   "metadata": {},
   "outputs": [
    {
     "data": {
      "text/plain": [
       "<Axes: >"
      ]
     },
     "execution_count": 45,
     "metadata": {},
     "output_type": "execute_result"
    },
    {
     "data": {
      "image/png": "[encoded data removed]",
      "text/plain": [
       "<Figure size 640x480 with 1 Axes>"
      ]
     },
     "metadata": {},
     "output_type": "display_data"
    }
   ],
   "source": [
    "#柱状图\n",
    "charts_data.plot.bar()"
   ]
  },
  {
   "cell_type": "code",
   "execution_count": 46,
   "id": "e262ad6a-0b05-41be-97be-e8a26168e50d",
   "metadata": {},
   "outputs": [],
   "source": [
    "#注意默认都会给Numpy包设置别名为np\n",
    "import numpy as np"
   ]
  },
  {
   "cell_type": "markdown",
   "id": "af6136ee-3f23-4b6d-8905-ea565841008f",
   "metadata": {},
   "source": [
    "array 创建数组"
   ]
  },
  {
   "cell_type": "code",
   "execution_count": null,
   "id": "8af02b4d-7ce2-40d8-85e2-394075241379",
   "metadata": {},
   "outputs": [],
   "source": []
  }
 ],
 "metadata": {
  "kernelspec": {
   "display_name": "Python 3 (ipykernel)",
   "language": "python",
   "name": "python3"
  },
  "language_info": {
   "codemirror_mode": {
    "name": "ipython",
    "version": 3
   },
   "file_extension": ".py",
   "mimetype": "text/x-python",
   "name": "python",
   "nbconvert_exporter": "python",
   "pygments_lexer": "ipython3",
   "version": "3.12.9"
  }
 },
 "nbformat": 4,
 "nbformat_minor": 5
}
